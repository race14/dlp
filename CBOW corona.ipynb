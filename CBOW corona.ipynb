{
  "cells": [
    {
      "cell_type": "markdown",
      "source": [
        "# Assignment No 5\n",
        "\n",
        "Implement the Continuous Bag of Words (CBOW) Model. Stages can be:\n",
        "a. Data preparation\n",
        "b. Generate training data\n",
        "c. Train model\n",
        "d. Output"
      ],
      "metadata": {
        "id": "NqlbQRoZaTLh"
      },
      "id": "NqlbQRoZaTLh"
    },
    {
      "cell_type": "code",
      "source": [
        "#a. Data preparation"
      ],
      "metadata": {
        "id": "3EGVAWYzb-JD"
      },
      "id": "3EGVAWYzb-JD",
      "execution_count": null,
      "outputs": []
    },
    {
      "cell_type": "code",
      "execution_count": 23,
      "id": "0490a2dc",
      "metadata": {
        "id": "0490a2dc"
      },
      "outputs": [],
      "source": [
        "import numpy as np\n",
        "import keras.backend as K #imp\n",
        "from keras.models import Sequential\n",
        "from keras.layers import Dense, Embedding, Lambda\n",
        "import tensorflow as tf\n",
        "from keras.utils import pad_sequences\n",
        "from keras.preprocessing.text import Tokenizer, text_to_word_sequence\n",
        "import gensim"
      ]
    },
    {
      "cell_type": "code",
      "execution_count": 21,
      "id": "2fa22fe2",
      "metadata": {
        "colab": {
          "base_uri": "https://localhost:8080/"
        },
        "id": "2fa22fe2",
        "outputId": "9d280436-82d4-4040-c697-a75f15494b76"
      },
      "outputs": [
        {
          "output_type": "execute_result",
          "data": {
            "text/plain": [
              "<_io.TextIOWrapper name='/content/corona.txt' mode='r' encoding='UTF-8'>"
            ]
          },
          "metadata": {},
          "execution_count": 21
        }
      ],
      "source": [
        "data = open(r\"/content/corona.txt\")\n",
        "data"
      ]
    },
    {
      "cell_type": "code",
      "execution_count": 22,
      "id": "4d8fac32",
      "metadata": {
        "colab": {
          "base_uri": "https://localhost:8080/"
        },
        "id": "4d8fac32",
        "outputId": "ad287d57-a363-4bc2-cfbd-1e33f06543fa"
      },
      "outputs": [
        {
          "output_type": "execute_result",
          "data": {
            "text/plain": [
              "['The speed of transmission is an important point of difference between the two viruses. Influenza has a shorter median incubation period (the time from infection to appearance of symptoms) and a shorter serial interval (the time between successive cases) than COVID-19 virus. The serial interval for COVID-19 virus is estimated to be 5-6 days, while for influenza virus, the serial interval is 3 days. This means that influenza can spread faster than COVID-19. \\n',\n",
              " 'Further, transmission in the first 3-5 days of illness, or potentially pre-symptomatic transmission –transmission of the virus before the appearance of symptoms – is a major driver of transmission for influenza. In contrast, while we are learning that there are people who can shed COVID-19 virus 24-48 hours prior to symptom onset, at present, this does not appear to be a major driver of transmission. \\n',\n",
              " 'The reproductive number – the number of secondary infections generated from one infected individual – is understood to be between 2 and 2.5 for COVID-19 virus, higher than for influenza. However, estimates for both COVID-19 and influenza viruses are very context and time-specific, making direct comparisons more difficult.  ']"
            ]
          },
          "metadata": {},
          "execution_count": 22
        }
      ],
      "source": [
        "corona_data = [text for text in data if text.count(' ') >= 2]\n",
        "corona_data"
      ]
    },
    {
      "cell_type": "code",
      "execution_count": 24,
      "id": "87689998",
      "metadata": {
        "colab": {
          "base_uri": "https://localhost:8080/"
        },
        "id": "87689998",
        "outputId": "e5e50d5a-f9cc-4c6f-b53e-26dbf0d6e92d"
      },
      "outputs": [
        {
          "output_type": "execute_result",
          "data": {
            "text/plain": [
              "[[1,\n",
              "  38,\n",
              "  2,\n",
              "  8,\n",
              "  9,\n",
              "  39,\n",
              "  40,\n",
              "  41,\n",
              "  2,\n",
              "  42,\n",
              "  13,\n",
              "  1,\n",
              "  43,\n",
              "  23,\n",
              "  3,\n",
              "  44,\n",
              "  11,\n",
              "  24,\n",
              "  45,\n",
              "  46,\n",
              "  47,\n",
              "  1,\n",
              "  14,\n",
              "  25,\n",
              "  48,\n",
              "  10,\n",
              "  26,\n",
              "  2,\n",
              "  27,\n",
              "  12,\n",
              "  11,\n",
              "  24,\n",
              "  15,\n",
              "  16,\n",
              "  1,\n",
              "  14,\n",
              "  13,\n",
              "  49,\n",
              "  50,\n",
              "  17,\n",
              "  4,\n",
              "  5,\n",
              "  6,\n",
              "  1,\n",
              "  15,\n",
              "  16,\n",
              "  7,\n",
              "  4,\n",
              "  5,\n",
              "  6,\n",
              "  9,\n",
              "  51,\n",
              "  10,\n",
              "  18,\n",
              "  19,\n",
              "  52,\n",
              "  20,\n",
              "  28,\n",
              "  7,\n",
              "  3,\n",
              "  6,\n",
              "  1,\n",
              "  15,\n",
              "  16,\n",
              "  9,\n",
              "  29,\n",
              "  20,\n",
              "  30,\n",
              "  53,\n",
              "  31,\n",
              "  3,\n",
              "  32,\n",
              "  54,\n",
              "  55,\n",
              "  17,\n",
              "  4,\n",
              "  5],\n",
              " [56,\n",
              "  8,\n",
              "  33,\n",
              "  1,\n",
              "  57,\n",
              "  29,\n",
              "  19,\n",
              "  20,\n",
              "  2,\n",
              "  58,\n",
              "  59,\n",
              "  60,\n",
              "  61,\n",
              "  62,\n",
              "  8,\n",
              "  63,\n",
              "  2,\n",
              "  1,\n",
              "  6,\n",
              "  64,\n",
              "  1,\n",
              "  26,\n",
              "  2,\n",
              "  27,\n",
              "  21,\n",
              "  9,\n",
              "  11,\n",
              "  34,\n",
              "  35,\n",
              "  2,\n",
              "  8,\n",
              "  7,\n",
              "  3,\n",
              "  33,\n",
              "  65,\n",
              "  28,\n",
              "  66,\n",
              "  22,\n",
              "  67,\n",
              "  31,\n",
              "  68,\n",
              "  22,\n",
              "  69,\n",
              "  70,\n",
              "  32,\n",
              "  71,\n",
              "  4,\n",
              "  5,\n",
              "  6,\n",
              "  72,\n",
              "  73,\n",
              "  74,\n",
              "  75,\n",
              "  10,\n",
              "  76,\n",
              "  77,\n",
              "  78,\n",
              "  79,\n",
              "  30,\n",
              "  80,\n",
              "  81,\n",
              "  82,\n",
              "  10,\n",
              "  18,\n",
              "  11,\n",
              "  34,\n",
              "  35,\n",
              "  2,\n",
              "  8],\n",
              " [1,\n",
              "  83,\n",
              "  36,\n",
              "  21,\n",
              "  1,\n",
              "  36,\n",
              "  2,\n",
              "  84,\n",
              "  85,\n",
              "  86,\n",
              "  25,\n",
              "  87,\n",
              "  88,\n",
              "  89,\n",
              "  21,\n",
              "  9,\n",
              "  90,\n",
              "  10,\n",
              "  18,\n",
              "  13,\n",
              "  37,\n",
              "  12,\n",
              "  37,\n",
              "  19,\n",
              "  7,\n",
              "  4,\n",
              "  5,\n",
              "  6,\n",
              "  91,\n",
              "  17,\n",
              "  7,\n",
              "  3,\n",
              "  92,\n",
              "  93,\n",
              "  7,\n",
              "  94,\n",
              "  4,\n",
              "  5,\n",
              "  12,\n",
              "  3,\n",
              "  23,\n",
              "  22,\n",
              "  95,\n",
              "  96,\n",
              "  12,\n",
              "  14,\n",
              "  97,\n",
              "  98,\n",
              "  99,\n",
              "  100,\n",
              "  101,\n",
              "  102]]"
            ]
          },
          "metadata": {},
          "execution_count": 24
        }
      ],
      "source": [
        "vectorize = Tokenizer()\n",
        "vectorize.fit_on_texts(corona_data)\n",
        "corona_data = vectorize.texts_to_sequences(corona_data)\n",
        "\n",
        "total_vocab = sum(len(s) for s in corona_data)\n",
        "word_count = len(vectorize.index_word)+1\n",
        "corona_data"
      ]
    },
    {
      "cell_type": "code",
      "execution_count": 25,
      "id": "301b9b75",
      "metadata": {
        "colab": {
          "base_uri": "https://localhost:8080/"
        },
        "id": "301b9b75",
        "outputId": "658fcf27-3936-49fb-aa0e-769c99cc78a8"
      },
      "outputs": [
        {
          "output_type": "stream",
          "name": "stdout",
          "text": [
            "198\n",
            "103\n"
          ]
        }
      ],
      "source": [
        "print(total_vocab)\n",
        "print(word_count)"
      ]
    },
    {
      "cell_type": "code",
      "execution_count": 26,
      "id": "15b54822",
      "metadata": {
        "id": "15b54822"
      },
      "outputs": [],
      "source": [
        "window_size = 2"
      ]
    },
    {
      "cell_type": "code",
      "source": [
        "# b. Generate training data"
      ],
      "metadata": {
        "id": "1S4TNbt3csXQ"
      },
      "id": "1S4TNbt3csXQ",
      "execution_count": null,
      "outputs": []
    },
    {
      "cell_type": "code",
      "execution_count": 27,
      "id": "d2095b39",
      "metadata": {
        "id": "d2095b39"
      },
      "outputs": [],
      "source": [
        "# Defining utility to generate context word pairs\n",
        "def cbow_model(data, window_size, total_vocab):\n",
        "    total_length = window_size*2\n",
        "    for text in data:\n",
        "        text_len = len(text)\n",
        "#         print(\"zero\",text)\n",
        "        for idx, word in enumerate(text):\n",
        "#             print(\"first\",idx,word)\n",
        "            context_word = []\n",
        "            target   = []\n",
        "            begin = idx - window_size\n",
        "            end = idx + window_size + 1\n",
        "            context_word.append([\n",
        "                text[i]\n",
        "                for i in range(begin, end)\n",
        "                if 0 <= i < text_len\n",
        "                and i != idx\n",
        "            ])\n",
        "            target.append(word)\n",
        "#             print(\"second\",context_word,target)\n",
        "            contextual = pad_sequences(\n",
        "                context_word,\n",
        "                maxlen=total_length\n",
        "            )\n",
        "            final_target = tf.keras.utils.to_categorical(\n",
        "                target,\n",
        "                total_vocab\n",
        "            )\n",
        "#             print(\"third\",contextual,final_target)\n",
        "            yield(contextual, final_target)"
      ]
    },
    {
      "cell_type": "code",
      "source": [
        "# c. train model"
      ],
      "metadata": {
        "id": "rXwgDgOJc1bu"
      },
      "id": "rXwgDgOJc1bu",
      "execution_count": null,
      "outputs": []
    },
    {
      "cell_type": "code",
      "execution_count": 28,
      "id": "c4b54b16",
      "metadata": {
        "id": "c4b54b16"
      },
      "outputs": [],
      "source": [
        "# Defining the model architecture\n",
        "model = Sequential()\n",
        "model.add(\n",
        "    Embedding(\n",
        "        input_dim=total_vocab,\n",
        "        output_dim=100,\n",
        "        input_length=window_size*2\n",
        "    )\n",
        ")\n",
        "model.add(\n",
        "    Lambda(\n",
        "        lambda x: K.mean(x, axis=1),\n",
        "        output_shape=(100,)\n",
        "    )\n",
        ")\n",
        "model.add(\n",
        "    Dense(\n",
        "        total_vocab,\n",
        "        activation='softmax'\n",
        "    )\n",
        ")"
      ]
    },
    {
      "cell_type": "code",
      "execution_count": 29,
      "id": "b4dc047d",
      "metadata": {
        "colab": {
          "base_uri": "https://localhost:8080/"
        },
        "id": "b4dc047d",
        "outputId": "58cafb8c-9b40-430c-ac56-14b45f3384de"
      },
      "outputs": [
        {
          "output_type": "stream",
          "name": "stdout",
          "text": [
            "Model: \"sequential_1\"\n",
            "_________________________________________________________________\n",
            " Layer (type)                Output Shape              Param #   \n",
            "=================================================================\n",
            " embedding_1 (Embedding)     (None, 4, 100)            19800     \n",
            "                                                                 \n",
            " lambda_1 (Lambda)           (None, 100)               0         \n",
            "                                                                 \n",
            " dense_1 (Dense)             (None, 198)               19998     \n",
            "                                                                 \n",
            "=================================================================\n",
            "Total params: 39798 (155.46 KB)\n",
            "Trainable params: 39798 (155.46 KB)\n",
            "Non-trainable params: 0 (0.00 Byte)\n",
            "_________________________________________________________________\n"
          ]
        }
      ],
      "source": [
        "model.summary()\n"
      ]
    },
    {
      "cell_type": "code",
      "execution_count": 30,
      "id": "0b9e3e4a",
      "metadata": {
        "id": "0b9e3e4a"
      },
      "outputs": [],
      "source": [
        "model.compile(\n",
        "    loss='categorical_crossentropy',\n",
        "    optimizer='adam'\n",
        ")"
      ]
    },
    {
      "cell_type": "code",
      "execution_count": 31,
      "id": "1be36f11",
      "metadata": {
        "colab": {
          "base_uri": "https://localhost:8080/"
        },
        "id": "1be36f11",
        "outputId": "9cf3f845-9acf-458a-a1bd-971a45f508de"
      },
      "outputs": [
        {
          "output_type": "stream",
          "name": "stdout",
          "text": [
            "Epoch  0 \t:  1042.0469326972961\n",
            "Epoch  1 \t:  995.4930830001831\n",
            "Epoch  2 \t:  910.9303479194641\n",
            "Epoch  3 \t:  830.8277773857117\n",
            "Epoch  4 \t:  775.1479425430298\n",
            "Epoch  5 \t:  723.6922801733017\n",
            "Epoch  6 \t:  670.464368224144\n",
            "Epoch  7 \t:  615.6918423175812\n",
            "Epoch  8 \t:  560.7597713470459\n",
            "Epoch  9 \t:  507.2302303314209\n"
          ]
        }
      ],
      "source": [
        "for i in range(10):\n",
        "    cost = 0\n",
        "    for x, y in cbow_model(corona_data, window_size, total_vocab):\n",
        "        cost += model.train_on_batch(x, y)\n",
        "    print(\"Epoch \", i,\"\\t: \", cost)"
      ]
    },
    {
      "cell_type": "code",
      "execution_count": 32,
      "id": "67f5ff0c",
      "metadata": {
        "colab": {
          "base_uri": "https://localhost:8080/"
        },
        "id": "67f5ff0c",
        "outputId": "461a9136-ad5c-4fb2-a26a-eb1dc5a1ce76"
      },
      "outputs": [
        {
          "output_type": "execute_result",
          "data": {
            "text/plain": [
              "8"
            ]
          },
          "metadata": {},
          "execution_count": 32
        }
      ],
      "source": [
        "dimensions = 100\n",
        "vect_file = open('./vectors.txt','w')\n",
        "vect_file.write('{} {}\\n'.format(102, dimensions))\n"
      ]
    },
    {
      "cell_type": "code",
      "execution_count": 33,
      "id": "5fe0d369",
      "metadata": {
        "id": "5fe0d369"
      },
      "outputs": [],
      "source": [
        "weights = model.get_weights()[0]\n",
        "for text, i in vectorize.word_index.items():\n",
        "    final_vec = ' '.join(map(str, list(weights[i, :])))\n",
        "    vect_file.write('{} {}\\n'.format(text, final_vec))\n",
        "vect_file.close()"
      ]
    },
    {
      "cell_type": "code",
      "source": [
        "# d. Output"
      ],
      "metadata": {
        "id": "mkvf1Hk2c7JD"
      },
      "id": "mkvf1Hk2c7JD",
      "execution_count": null,
      "outputs": []
    },
    {
      "cell_type": "code",
      "execution_count": 34,
      "id": "abdac1c1",
      "metadata": {
        "id": "abdac1c1"
      },
      "outputs": [],
      "source": [
        "cbow_output = gensim.models.KeyedVectors.load_word2vec_format(\n",
        "    'vectors.txt',\n",
        "    binary=False\n",
        ")"
      ]
    },
    {
      "cell_type": "code",
      "execution_count": 35,
      "id": "0f824b2c",
      "metadata": {
        "colab": {
          "base_uri": "https://localhost:8080/"
        },
        "id": "0f824b2c",
        "outputId": "84ab8d24-9584-4e9b-94f5-7cb8e459e018"
      },
      "outputs": [
        {
          "output_type": "execute_result",
          "data": {
            "text/plain": [
              "[('–transmission', 0.839831531047821),\n",
              " ('number', 0.7408813834190369),\n",
              " ('difference', 0.7351846694946289),\n",
              " ('before', 0.7112886309623718),\n",
              " ('of', 0.6805046796798706),\n",
              " ('driver', 0.6788857579231262),\n",
              " ('serial', 0.6767731308937073),\n",
              " ('symptoms', 0.6194480061531067),\n",
              " ('first', 0.6076533794403076),\n",
              " ('reproductive', 0.5945690870285034)]"
            ]
          },
          "metadata": {},
          "execution_count": 35
        }
      ],
      "source": [
        "cbow_output.most_similar(positive=['speed'])\n"
      ]
    }
  ],
  "metadata": {
    "kernelspec": {
      "display_name": "Python 3 (ipykernel)",
      "language": "python",
      "name": "python3"
    },
    "language_info": {
      "codemirror_mode": {
        "name": "ipython",
        "version": 3
      },
      "file_extension": ".py",
      "mimetype": "text/x-python",
      "name": "python",
      "nbconvert_exporter": "python",
      "pygments_lexer": "ipython3",
      "version": "3.8.13"
    },
    "colab": {
      "provenance": []
    }
  },
  "nbformat": 4,
  "nbformat_minor": 5
}